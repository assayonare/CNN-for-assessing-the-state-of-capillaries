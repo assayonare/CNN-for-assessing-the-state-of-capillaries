{
  "cells": [
    {
      "cell_type": "markdown",
      "metadata": {
        "id": "view-in-github",
        "colab_type": "text"
      },
      "source": [
        "<a href=\"https://colab.research.google.com/github/assayonare/CNN-for-assessing-the-state-of-capillaries/blob/main/capillaroscopy.ipynb\" target=\"_parent\"><img src=\"https://colab.research.google.com/assets/colab-badge.svg\" alt=\"Open In Colab\"/></a>"
      ]
    },
    {
      "cell_type": "code",
      "execution_count": null,
      "metadata": {
        "id": "TeMpJoTEHXTk"
      },
      "outputs": [],
      "source": [
        "import cv2\n",
        "import numpy as np\n",
        "import matplotlib.pyplot as plt\n",
        "from sklearn.cluster import DBSCAN\n",
        "import os\n",
        "import csv"
      ]
    },
    {
      "cell_type": "code",
      "execution_count": null,
      "metadata": {
        "id": "3jy36YUufjI5",
        "collapsed": true
      },
      "outputs": [],
      "source": [
        "import cv2\n",
        "import numpy as np\n",
        "import matplotlib.pyplot as plt\n",
        "from sklearn.cluster import DBSCAN\n",
        "from tensorflow.keras.models import load_model\n",
        "\n",
        "def merge_overlapping_boxes(boxes, overlapThresh=0.3):\n",
        "    \"\"\"\n",
        "    Объединяет перекрывающиеся боксы.\n",
        "    Каждый бокс задается в формате (x, y, w, h).\n",
        "    \"\"\"\n",
        "    if len(boxes) == 0:\n",
        "        return []\n",
        "\n",
        "    # Преобразуем боксы в формат (x1, y1, x2, y2)\n",
        "    boxes_arr = np.array([[x, y, x+w, y+h] for (x, y, w, h) in boxes])\n",
        "    merged = True\n",
        "    while merged:\n",
        "        merged = False\n",
        "        new_boxes = []\n",
        "        used = np.zeros(len(boxes_arr), dtype=bool)\n",
        "\n",
        "        for i in range(len(boxes_arr)):\n",
        "            if used[i]:\n",
        "                continue\n",
        "            # Текущий бокс\n",
        "            current_box = boxes_arr[i].copy()\n",
        "            for j in range(i+1, len(boxes_arr)):\n",
        "                if used[j]:\n",
        "                    continue\n",
        "                box = boxes_arr[j]\n",
        "                # Вычисляем пересечение\n",
        "                xx1 = max(current_box[0], box[0])\n",
        "                yy1 = max(current_box[1], box[1])\n",
        "                xx2 = min(current_box[2], box[2])\n",
        "                yy2 = min(current_box[3], box[3])\n",
        "                w = max(0, xx2 - xx1)\n",
        "                h = max(0, yy2 - yy1)\n",
        "                inter = w * h\n",
        "                area_current = (current_box[2]-current_box[0]) * (current_box[3]-current_box[1])\n",
        "                area_box = (box[2]-box[0]) * (box[3]-box[1])\n",
        "                iou = inter / float(area_current + area_box - inter)\n",
        "                if iou > overlapThresh:\n",
        "                    # Объединяем боксы\n",
        "                    current_box[0] = min(current_box[0], box[0])\n",
        "                    current_box[1] = min(current_box[1], box[1])\n",
        "                    current_box[2] = max(current_box[2], box[2])\n",
        "                    current_box[3] = max(current_box[3], box[3])\n",
        "                    used[j] = True\n",
        "                    merged = True\n",
        "            new_boxes.append(current_box)\n",
        "            used[i] = True\n",
        "        boxes_arr = np.array(new_boxes)\n",
        "    # Возвращаем в формате (x, y, w, h)\n",
        "    return [(int(x1), int(y1), int(x2-x1), int(y2-y1)) for x1, y1, x2, y2 in boxes_arr]\n",
        "\n",
        "\n",
        "# Задаём входной размер, который ожидает модель (например, 64x64)\n",
        "input_size = (64, 64)\n",
        "\n",
        "# 2. Загружаем изображение капилляров в оттенках серого\n",
        "image = cv2.imread(\"/content/drive/MyDrive/inp/image_capillar (13).png\", cv2.IMREAD_GRAYSCALE)\n",
        "if image is None:\n",
        "    raise Exception(\"Не удалось загрузить изображение!\")\n",
        "\n",
        "# 3. Улучшаем изображение: фильтрация шума, обнаружение границ и поиск контуров\n",
        "blurred = cv2.GaussianBlur(image, (3, 3), 0)\n",
        "edges = cv2.Canny(blurred, 50, 150)\n",
        "contours, _ = cv2.findContours(edges, cv2.RETR_EXTERNAL, cv2.CHAIN_APPROX_SIMPLE)\n",
        "filtered_contours = [cnt for cnt in contours if cv2.contourArea(cnt) > 20]\n",
        "\n",
        "# 4. Определяем bounding boxes (прямоугольные рамки) с отступом\n",
        "padding = 30  # увеличение рамки\n",
        "boxes = []\n",
        "for cnt in filtered_contours:\n",
        "    x, y, w, h = cv2.boundingRect(cnt)\n",
        "    x_new = max(0, x - padding)\n",
        "    y_new = max(0, y - padding)\n",
        "    w_new = min(image.shape[1] - x_new, w + 2 * padding)\n",
        "    h_new = min(image.shape[0] - y_new, h + 2 * padding)\n",
        "    boxes.append((x_new, y_new, w_new, h_new))\n",
        "\n",
        "# 5. Кластеризация bounding boxes по центрам (DBSCAN)\n",
        "box_centers = [(x + w // 2, y + h // 2) for x, y, w, h in boxes]\n",
        "X = np.array(box_centers)\n",
        "dbscan = DBSCAN(eps=35, min_samples=1).fit(X)\n",
        "clustered_boxes = {}\n",
        "for label, box in zip(dbscan.labels_, boxes):\n",
        "    if label not in clustered_boxes:\n",
        "        clustered_boxes[label] = []\n",
        "    clustered_boxes[label].append(box)\n",
        "\n",
        "# 6. Создаем объединенные bounding boxes для каждого кластера\n",
        "final_boxes = []\n",
        "for cluster in clustered_boxes.values():\n",
        "    x_min = min(x for x, y, w, h in cluster)\n",
        "    y_min = min(y for x, y, w, h in cluster)\n",
        "    x_max = max(x + w for x, y, w, h in cluster)\n",
        "    y_max = max(y + h for x, y, w, h in cluster)\n",
        "    final_boxes.append((x_min, y_min, x_max - x_min, y_max - y_min))\n",
        "\n",
        "# 7. Применяем дополнительное объединение, чтобы боксы не перекрывались\n",
        "final_boxes = merge_overlapping_boxes(final_boxes, overlapThresh=0.3)\n",
        "\n",
        "# 8. Готовим изображение для визуализации (конвертируем в BGR, чтобы можно было наложить цветное выделение)\n",
        "image_with_overlay = cv2.cvtColor(image, cv2.COLOR_GRAY2BGR)\n",
        "\n",
        "# 9. Для каждого объединённого сегмента:\n",
        "#    - Извлекаем ROI, масштабируем до input_size, нормализуем и получаем предсказание модели.\n",
        "#    - Если предсказание указывает на класс 0 (дефектный), выделяем область красным полупрозрачным наложением.\n",
        "for (x, y, w, h) in final_boxes:\n",
        "    roi = image[y:y+h, x:x+w]\n",
        "    # Если модель ожидает 3 канала, преобразуем ROI в цветное изображение\n",
        "    roi_color = cv2.cvtColor(roi, cv2.COLOR_GRAY2BGR)\n",
        "    roi_resized = cv2.resize(roi_color, input_size)\n",
        "    roi_normalized = roi_resized.astype('float32') / 255.0\n",
        "    roi_input = np.expand_dims(roi_normalized, axis=0)\n",
        "\n",
        "    # Получаем предсказание модели\n",
        "    prediction = model.predict(roi_input)\n",
        "\n",
        "    # Если значение меньше 0.5, считаем сегмент дефектным (класс 0)\n",
        "    if prediction[0][0] < 0.5:\n",
        "        overlay = image_with_overlay.copy()\n",
        "        cv2.rectangle(overlay, (x, y), (x+w, y+h), (0, 0, 255), -1)  # заливка красным\n",
        "        alpha = 0.4  # коэффициент прозрачности\n",
        "        image_with_overlay = cv2.addWeighted(overlay, alpha, image_with_overlay, 1 - alpha, 0)\n",
        "\n",
        "# 10. Отображаем результат через matplotlib\n",
        "plt.figure(figsize=(12, 12))\n",
        "plt.imshow(cv2.cvtColor(image_with_overlay, cv2.COLOR_BGR2RGB))\n",
        "plt.axis('off')\n",
        "plt.title(\"Сегменты класса 0 (без перекрывающихся боксов)\")\n",
        "plt.show()"
      ]
    },
    {
      "cell_type": "code",
      "execution_count": null,
      "metadata": {
        "id": "vaxl_qALH9jm"
      },
      "outputs": [],
      "source": [
        "image = cv2.imread(\"/content/drive/MyDrive/inp/image_capillar (19).png\", cv2.IMREAD_GRAYSCALE)\n",
        "\n",
        "# 2. Улучшение контраста (CLAHE)\n",
        "# clahe = cv2.createCLAHE(clipLimit=2.0, tileGridSize=(8,8))\n",
        "# image = clahe.apply(image)\n",
        "\n",
        "# 3. Фильтрация шума\n",
        "blurred = cv2.GaussianBlur(image, (3,3), 0)\n",
        "\n",
        "# 4. Обнаружение границ (Canny)\n",
        "edges = cv2.Canny(blurred, 50, 150)\n",
        "\n",
        "# 5. Поиск контуров\n",
        "contours, _ = cv2.findContours(edges, cv2.RETR_EXTERNAL, cv2.CHAIN_APPROX_SIMPLE)\n",
        "\n",
        "# 6. Фильтрация контуров (удаляем слишком маленькие объекты)\n",
        "filtered_contours = [cnt for cnt in contours if cv2.contourArea(cnt) > 20]\n",
        "\n",
        "# 7. Определяем bounding boxes (прямоугольные рамки)\n",
        "padding = 30  # Увеличение рамки\n",
        "boxes = []\n",
        "\n",
        "for cnt in filtered_contours:\n",
        "    x, y, w, h = cv2.boundingRect(cnt)\n",
        "    x_new = max(0, x - padding)\n",
        "    y_new = max(0, y - padding)\n",
        "    w_new = min(image.shape[1] - x_new, w + 2 * padding)\n",
        "    h_new = min(image.shape[0] - y_new, h + 2 * padding)\n",
        "    boxes.append((x_new, y_new, w_new, h_new))\n",
        "\n",
        "# 8. Преобразуем bounding boxes в формат (x, y) центра + размеры\n",
        "box_centers = [(x + w // 2, y + h // 2) for x, y, w, h in boxes]\n",
        "box_sizes = [(w, h) for _, _, w, h in boxes]\n",
        "\n",
        "# 9. Применяем DBSCAN для кластеризации близких капилляров\n",
        "X = np.array(boxes)  # Массив координат центров рамок\n",
        "dbscan = DBSCAN(eps=35, min_samples=1).fit(X)  # eps — радиус объединения\n",
        "\n",
        "# 10. Группировка рамок по кластерам\n",
        "clustered_boxes = {}\n",
        "for label, ((x, y), (w, h)) in zip(dbscan.labels_, zip(box_centers, box_sizes)):\n",
        "    if label not in clustered_boxes:\n",
        "        clustered_boxes[label] = []\n",
        "    clustered_boxes[label].append((x, y, w, h))\n",
        "\n",
        "# 11. Создаем объединенные bounding boxes для каждого кластера\n",
        "final_boxes = []\n",
        "for cluster in clustered_boxes.values():\n",
        "    x_min = min(x - w // 2 for x, y, w, h in cluster)\n",
        "    y_min = min(y - h // 2 for x, y, w, h in cluster)\n",
        "    x_max = max(x + w // 2 for x, y, w, h in cluster)\n",
        "    y_max = max(y + h // 2 for x, y, w, h in cluster)\n",
        "    final_boxes.append((x_min, y_min, x_max - x_min, y_max - y_min))\n",
        "\n",
        "# 12. Визуализация результатов\n",
        "image_with_boxes = cv2.cvtColor(image, cv2.COLOR_GRAY2BGR)\n",
        "\n",
        "# 13. Вырезаем и сохраняем сегменты\n",
        "segments = []\n",
        "for (x, y, w, h) in final_boxes:\n",
        "    segment = image[y:y+h, x:x+w]\n",
        "    segments.append(segment)\n",
        "    cv2.rectangle(image_with_boxes, (x, y), (x+w, y+h), (0, 255, 0), 2)\n",
        "\n",
        "# 14. Вывод изображения с итоговыми рамками\n",
        "plt.figure(figsize=(8, 8))\n",
        "plt.imshow(cv2.cvtColor(image_with_boxes, cv2.COLOR_BGR2RGB))\n",
        "plt.title(\"Капилляры после кластеризации DBSCAN\")\n",
        "plt.axis(\"off\")\n",
        "plt.show()\n",
        "\n",
        "# 15. Вывод каждого сегмента отдельно\n",
        "fig, axes = plt.subplots(1, 5, figsize=(15, 5))\n",
        "for i in range(5):\n",
        "    axes[i].imshow(segments[i], cmap=\"gray\")\n",
        "    axes[i].axis(\"off\")\n",
        "    axes[i].set_title(f\"Капилляр {i+1}\")\n",
        "\n",
        "plt.show()"
      ]
    },
    {
      "cell_type": "code",
      "execution_count": null,
      "metadata": {
        "id": "o8JK2cWKgon2"
      },
      "outputs": [],
      "source": [
        "def save_segment(segment, segment_id, output_dir=\"/content/drive/MyDrive/inp/segments19\"):\n",
        "    if not os.path.exists(output_dir):\n",
        "        os.makedirs(output_dir)\n",
        "    segment_filename = f\"{output_dir}/segment_{4122+segment_id}.png\"\n",
        "    cv2.imwrite(segment_filename, segment)  # Сохранение изображения\n",
        "\n",
        "segment_id = 1  # Идентификатор сегмента (можно увеличить для каждого сегмента)\n",
        "for segment in segments:\n",
        "    segment = cv2.resize(segment, (64, 64))\n",
        "    save_segment(segment, segment_id)\n",
        "    segment_id += 1"
      ]
    },
    {
      "cell_type": "code",
      "execution_count": null,
      "metadata": {
        "id": "yfC2LTjtiNrk"
      },
      "outputs": [],
      "source": [
        "def write_to_csv(segment_id, label, csv_filename=\"/content/drive/MyDrive/inp/labels19.csv\"):\n",
        "    with open(csv_filename, mode='a', newline='') as file:\n",
        "        writer = csv.writer(file)\n",
        "        writer.writerow([f\"segment_{4122+segment_id}.png\", label])\n",
        "\n",
        "# Пример использования\n",
        "for segment_id in range(1, segment_id+1):\n",
        "    label = \"1\"  # или \"unhealthy\"\n",
        "    write_to_csv(segment_id, label)\n"
      ]
    },
    {
      "cell_type": "code",
      "execution_count": null,
      "metadata": {
        "id": "HUS6W2kkSnih"
      },
      "outputs": [],
      "source": [
        "import pandas as pd\n",
        "\n",
        "# Загрузка CSV-файла\n",
        "df = pd.read_csv('/content/drive/MyDrive/capillaroscopy/csv/labels.csv')\n",
        "\n",
        "# Подсчёт количества элементов в каждом классе\n",
        "class_counts = df['class'].value_counts()\n",
        "\n",
        "# Вывод результатов\n",
        "print(\"Количество элементов каждого класса:\")\n",
        "print(class_counts)"
      ]
    },
    {
      "cell_type": "code",
      "execution_count": null,
      "metadata": {
        "id": "krIob5JZKvMJ"
      },
      "outputs": [],
      "source": [
        "import pandas as pd\n",
        "import os\n",
        "from sklearn.model_selection import train_test_split\n",
        "from imblearn.over_sampling import RandomOverSampler\n",
        "import numpy as np"
      ]
    },
    {
      "cell_type": "code",
      "execution_count": null,
      "metadata": {
        "id": "Bcys2nEJPdXH"
      },
      "outputs": [],
      "source": [
        "df = pd.read_csv(\"/content/drive/MyDrive/capillaroscopy/csv/labels.csv\")\n",
        "df[\"filepath\"] = df[\"filename\"].apply(lambda x: os.path.join(\"/content/drive/MyDrive/capillaroscopy/data/train\", x))\n",
        "train_df, temp_df = train_test_split(df, test_size=0.3, stratify=df[\"class\"], random_state=42)\n",
        "val_df, test_df = train_test_split(temp_df, test_size=0.5, stratify=temp_df[\"class\"], random_state=42)\n",
        "\n",
        "\n",
        "X_train = np.array(train_df[\"filepath\"])\n",
        "y_train = np.array(train_df[\"class\"])\n",
        "\n",
        "# Oversampling редких классов\n",
        "ros = RandomOverSampler(sampling_strategy=\"auto\")  # Авто-уравнивание\n",
        "X_resampled, y_resampled = ros.fit_resample(X_train.reshape(-1, 1), y_train)\n",
        "\n",
        "# Обновляем датафрейм\n",
        "train_df_resampled = pd.DataFrame({\"filepath\": X_resampled.flatten(), \"class\": y_resampled})\n",
        "\n",
        "print(f\"Train: {len(train_df_resampled)}, Validation: {len(val_df)}, Test: {len(test_df)}\")"
      ]
    },
    {
      "cell_type": "code",
      "execution_count": null,
      "metadata": {
        "id": "immKjHArSKbg"
      },
      "outputs": [],
      "source": [
        "from tensorflow.keras.preprocessing.image import ImageDataGenerator"
      ]
    },
    {
      "cell_type": "code",
      "execution_count": null,
      "metadata": {
        "id": "SNnIW37ASVXN"
      },
      "outputs": [],
      "source": [
        "train_datagen = ImageDataGenerator(\n",
        "    rescale=1./255, rotation_range=30, width_shift_range=0.2, height_shift_range=0.2,\n",
        "    shear_range=0.2, zoom_range=0.2, horizontal_flip=True, fill_mode='nearest'\n",
        ")\n",
        "val_test_datagen = ImageDataGenerator(rescale=1./255)  # Без аугментации\n",
        "train_df_resampled[\"class\"] = train_df_resampled[\"class\"].astype(str)\n",
        "val_df[\"class\"] = val_df[\"class\"].astype(str)\n",
        "test_df[\"class\"] = test_df[\"class\"].astype(str)\n",
        "# Генераторы данных\n",
        "train_generator = train_datagen.flow_from_dataframe(train_df_resampled, x_col=\"filepath\", y_col=\"class\", target_size=(64, 64),\n",
        "                                                    batch_size=32, class_mode=\"sparse\")\n",
        "val_generator = val_test_datagen.flow_from_dataframe(val_df, x_col=\"filepath\", y_col=\"class\", target_size=(64, 64),\n",
        "                                                     batch_size=32, class_mode=\"sparse\")\n",
        "test_generator = val_test_datagen.flow_from_dataframe(test_df, x_col=\"filepath\", y_col=\"class\", target_size=(64, 64),\n",
        "                                                      batch_size=32, class_mode=\"sparse\", shuffle=False)"
      ]
    },
    {
      "cell_type": "code",
      "execution_count": null,
      "metadata": {
        "id": "seLY97b4SZTA"
      },
      "outputs": [],
      "source": [
        "import tensorflow as tf\n",
        "from tensorflow.keras.applications import EfficientNetB0\n",
        "from tensorflow.keras.layers import Dense, GlobalAveragePooling2D, Dropout\n",
        "from tensorflow.keras.models import Model\n",
        "from sklearn.utils.class_weight import compute_class_weight\n",
        "import numpy as np"
      ]
    },
    {
      "cell_type": "code",
      "execution_count": null,
      "metadata": {
        "id": "TuJh_YypSb6V"
      },
      "outputs": [],
      "source": [
        "# Загружаем EfficientNetB0 без последнего слоя\n",
        "base_model = EfficientNetB0(weights=\"imagenet\", include_top=False, input_shape=(64, 64, 3))\n",
        "# base_model.trainable = False  # Замораживаем предобученные веса\n",
        "for layer in base_model.layers[:-10]:  # Можно оставить последние 10 обучаемыми\n",
        "    layer.trainable = False\n",
        "# Добавляем свои слои\n",
        "# x = GlobalAveragePooling2D()(base_model.output)\n",
        "# x = Dense(128, activation=\"relu\")(x)\n",
        "# x = Dense(3, activation=\"softmax\")(x)  # 3 класса\n",
        "\n",
        "x = base_model.output\n",
        "x = GlobalAveragePooling2D()(x)\n",
        "x = Dropout(0.5)(x)  # Уменьшает переобучение\n",
        "x = Dense(128, activation=\"relu\")(x)\n",
        "x = Dropout(0.3)(x)\n",
        "output = Dense(3, activation=\"softmax\")(x)  # 3 класса\n",
        "\n",
        "\n",
        "# Финальная модель\n",
        "model = Model(inputs=base_model.input, outputs=x)\n",
        "model.compile(optimizer=\"adam\", loss=\"sparse_categorical_crossentropy\", metrics=[\"accuracy\"])\n",
        "\n",
        "#class_weights = compute_class_weight(\"balanced\", classes=np.unique(train_df[\"class\"]), y=train_df[\"class\"])\n",
        "\n",
        "# Преобразуем в словарь\n",
        "#class_weight_dict = {i: class_weights[i] for i in range(len(class_weights))}\n",
        "history = model.fit(train_generator, validation_data=val_generator, epochs=20, steps_per_epoch=len(train_generator),\n",
        "                    validation_steps=len(val_generator))\n",
        "# Обучение модели с учетом весов классов\n",
        "#history = model.fit(train_generator, validation_data=val_generator, epochs=20,\n",
        "#                    steps_per_epoch=len(train_generator), validation_steps=len(val_generator),\n",
        "#                   class_weight=class_weight_dict)"
      ]
    },
    {
      "cell_type": "code",
      "execution_count": null,
      "metadata": {
        "id": "QGLgCpLmSfkl"
      },
      "outputs": [],
      "source": [
        "import matplotlib.pyplot as plt"
      ]
    },
    {
      "cell_type": "code",
      "execution_count": null,
      "metadata": {
        "id": "Vu6DLdDuSiBM"
      },
      "outputs": [],
      "source": [
        "acc = history.history[\"accuracy\"]\n",
        "val_acc = history.history[\"val_accuracy\"]\n",
        "loss = history.history[\"loss\"]\n",
        "val_loss = history.history[\"val_loss\"]\n",
        "epochs = range(1, len(acc) + 1)\n",
        "\n",
        "# График точности\n",
        "plt.figure(figsize=(12, 5))\n",
        "plt.subplot(1, 2, 1)\n",
        "plt.plot(epochs, acc, \"b-\", label=\"Точность на обучении\")\n",
        "plt.plot(epochs, val_acc, \"r-\", label=\"Точность на валидации\")\n",
        "plt.xlabel(\"Эпохи\")\n",
        "plt.ylabel(\"Точность\")\n",
        "plt.legend()\n",
        "plt.title(\"График точности\")\n",
        "\n",
        "# График потерь\n",
        "plt.subplot(1, 2, 2)\n",
        "plt.plot(epochs, loss, \"b-\", label=\"Потери на обучении\")\n",
        "plt.plot(epochs, val_loss, \"r-\", label=\"Потери на валидации\")\n",
        "plt.xlabel(\"Эпохи\")\n",
        "plt.ylabel(\"Потери\")\n",
        "plt.legend()\n",
        "plt.title(\"График потерь\")\n",
        "\n",
        "plt.show()"
      ]
    },
    {
      "cell_type": "code",
      "execution_count": null,
      "metadata": {
        "id": "xG_YbnJtZ0kR"
      },
      "outputs": [],
      "source": []
    },
    {
      "cell_type": "code",
      "execution_count": null,
      "metadata": {
        "id": "oZYR2Tz1SkwW"
      },
      "outputs": [],
      "source": [
        "test_loss, test_acc = model.evaluate(test_generator)\n",
        "print(f\"Точность на тесте: {test_acc * 100:.2f}%\")"
      ]
    },
    {
      "cell_type": "code",
      "execution_count": null,
      "metadata": {
        "id": "JPIIyHMKVdkE"
      },
      "outputs": [],
      "source": [
        "model.save(\"/content/drive/MyDrive/capillaroscopy/capillaries_classifier1.keras\")"
      ]
    },
    {
      "cell_type": "code",
      "execution_count": null,
      "metadata": {
        "id": "ui3OEJjUYcy2"
      },
      "outputs": [],
      "source": [
        "test_df = pd.read_csv(\"/content/drive/MyDrive/capillaroscopy/csv/labels.csv\")\n",
        "test_class_0_df = test_df[test_df[\"class\"] == 1].copy()\n",
        "\n",
        "# Добавляем полный путь к изображениям\n",
        "test_class_0_df[\"filepath\"] = test_class_0_df[\"filename\"].apply(lambda x: os.path.join(\"/content/drive/MyDrive/capillaroscopy/data/train/\", x))\n",
        "\n",
        "print(f\"Найдено {len(test_class_0_df)} изображений класса 0\")"
      ]
    },
    {
      "cell_type": "code",
      "execution_count": null,
      "metadata": {
        "id": "4HEtu1SIZReF"
      },
      "outputs": [],
      "source": [
        "test_datagen = ImageDataGenerator(rescale=1./255)\n",
        "\n",
        "# Генератор только для класса 0\n",
        "test_class_0_generator = test_datagen.flow_from_dataframe(\n",
        "    test_class_0_df, x_col=\"filepath\", y_col=None, target_size=(64, 64),\n",
        "    batch_size=32, class_mode=None, shuffle=False\n",
        ")"
      ]
    },
    {
      "cell_type": "code",
      "execution_count": null,
      "metadata": {
        "id": "ZBHXRgUiZj0O"
      },
      "outputs": [],
      "source": [
        "import numpy as np"
      ]
    },
    {
      "cell_type": "code",
      "execution_count": null,
      "metadata": {
        "id": "APWEvwMNZXOW"
      },
      "outputs": [],
      "source": [
        "predictions = model.predict(test_class_0_generator)\n",
        "\n",
        "# Берем класс с максимальной вероятностью\n",
        "predicted_classes = np.argmax(predictions, axis=1)\n",
        "\n",
        "# Выводим результаты\n",
        "for filename, pred in zip(test_class_0_df[\"filename\"], predicted_classes):\n",
        "    print(f\"{filename}: предсказанный класс {pred}\")"
      ]
    },
    {
      "cell_type": "markdown",
      "metadata": {
        "id": "0FPn7IhZpLGo"
      },
      "source": [
        "Создадим кастомную CNN с 0:\n"
      ]
    },
    {
      "cell_type": "code",
      "execution_count": null,
      "metadata": {
        "id": "J0O98SLipPhO"
      },
      "outputs": [],
      "source": [
        "import tensorflow as tf\n",
        "from tensorflow.keras.models import Sequential\n",
        "from tensorflow.keras.layers import Conv2D, MaxPooling2D, Flatten, Dense, Dropout, BatchNormalization\n",
        "from tensorflow.keras.preprocessing.image import ImageDataGenerator\n",
        "import matplotlib.pyplot as plt"
      ]
    },
    {
      "cell_type": "code",
      "execution_count": null,
      "metadata": {
        "id": "QCLKNuU6pSZK"
      },
      "outputs": [],
      "source": [
        "model = Sequential([\n",
        "    # 1-й сверточный блок\n",
        "    Conv2D(32, (3,3), activation='relu', input_shape=(64,64,3)),\n",
        "    BatchNormalization(),\n",
        "    MaxPooling2D(2,2),\n",
        "\n",
        "    # 2-й сверточный блок\n",
        "    Conv2D(64, (3,3), activation='relu'),\n",
        "    BatchNormalization(),\n",
        "    MaxPooling2D(2,2),\n",
        "\n",
        "    # 3-й сверточный блок\n",
        "    Conv2D(128, (3,3), activation='relu'),\n",
        "    BatchNormalization(),\n",
        "    MaxPooling2D(2,2),\n",
        "\n",
        "    # 4-й сверточный блок (если данных много)\n",
        "    Conv2D(256, (3,3), activation='relu'),\n",
        "    BatchNormalization(),\n",
        "    MaxPooling2D(2,2),\n",
        "\n",
        "    Flatten(),\n",
        "\n",
        "    # Полносвязные слои\n",
        "    Dense(128, activation='relu'),\n",
        "    Dropout(0.5),\n",
        "    Dense(64, activation='relu'),\n",
        "    Dropout(0.3),\n",
        "    Dense(3, activation='softmax')  # 3 класса\n",
        "])\n",
        "\n",
        "    # Flatten(),\n",
        "\n",
        "#     # Полносвязные слои\n",
        "#     Dense(256, activation='relu'),\n",
        "#     Dropout(0.5),\n",
        "#     Dense(128, activation='relu'),\n",
        "#     Dropout(0.4),\n",
        "#     Dense(64, activation='relu'),\n",
        "#     Dropout(0.3),\n",
        "#     Dense(3, activation='softmax')  # 3 класса\n",
        "# ])"
      ]
    },
    {
      "cell_type": "code",
      "execution_count": null,
      "metadata": {
        "id": "326SC0S5pUZ1"
      },
      "outputs": [],
      "source": [
        "model.compile(optimizer=\"adam\",\n",
        "              loss=\"sparse_categorical_crossentropy\",\n",
        "              metrics=[\"accuracy\"])"
      ]
    },
    {
      "cell_type": "code",
      "execution_count": null,
      "metadata": {
        "id": "fpb1gFc1pfFL"
      },
      "outputs": [],
      "source": [
        "history = model.fit(\n",
        "    train_generator,\n",
        "    validation_data=val_generator,\n",
        "    epochs=30\n",
        ")"
      ]
    },
    {
      "cell_type": "code",
      "execution_count": null,
      "metadata": {
        "id": "7N5o_IBhpgR-"
      },
      "outputs": [],
      "source": [
        "acc = history.history[\"accuracy\"]\n",
        "val_acc = history.history[\"val_accuracy\"]\n",
        "loss = history.history[\"loss\"]\n",
        "val_loss = history.history[\"val_loss\"]\n",
        "epochs = range(1, len(acc) + 1)\n",
        "\n",
        "# График точности\n",
        "plt.figure(figsize=(12, 5))\n",
        "plt.subplot(1, 2, 1)\n",
        "plt.plot(epochs, acc, \"b-\", label=\"Точность на обучении\")\n",
        "plt.plot(epochs, val_acc, \"r-\", label=\"Точность на валидации\")\n",
        "plt.xlabel(\"Эпохи\")\n",
        "plt.ylabel(\"Точность\")\n",
        "plt.legend()\n",
        "plt.title(\"График точности\")\n",
        "\n",
        "# График потерь\n",
        "plt.subplot(1, 2, 2)\n",
        "plt.plot(epochs, loss, \"b-\", label=\"Потери на обучении\")\n",
        "plt.plot(epochs, val_loss, \"r-\", label=\"Потери на валидации\")\n",
        "plt.xlabel(\"Эпохи\")\n",
        "plt.ylabel(\"Потери\")\n",
        "plt.legend()\n",
        "plt.title(\"График потерь\")\n",
        "\n",
        "plt.show()"
      ]
    },
    {
      "cell_type": "code",
      "execution_count": null,
      "metadata": {
        "colab": {
          "background_save": true
        },
        "id": "Fl2i_v5Rq5T4"
      },
      "outputs": [],
      "source": [
        "test_loss, test_acc = model.evaluate(test_generator)\n",
        "print(f\"Точность на тесте: {test_acc * 100:.2f}%\")"
      ]
    },
    {
      "cell_type": "code",
      "execution_count": null,
      "metadata": {
        "id": "NbWfA30V5nyD"
      },
      "outputs": [],
      "source": [
        "\n",
        "predictions = model.predict(test_generator)\n",
        "\n",
        "\n",
        "predicted_classes = np.argmax(predictions, axis=1)\n",
        "\n",
        "true_classes = test_generator.classes\n",
        "\n",
        "filenames = test_generator.filenames\n",
        "\n",
        "df = pd.DataFrame({\n",
        "    \"Filename\": filenames,\n",
        "    \"True Class\": true_classes,\n",
        "    \"Predicted Class\": predicted_classes\n",
        "})\n",
        "\n",
        "# Сохраняем предсказания в CSV\n",
        "df.to_csv(\"/content/drive/MyDrive/capillaroscopy/capillaries_classifier2.csv\", index=False)\n",
        "print(\"Предсказания сохранены в predictions_with_filenames.csv\")\n",
        "\n",
        "# Выводим первые 10 строк\n",
        "print(df.head(10))"
      ]
    },
    {
      "cell_type": "code",
      "execution_count": null,
      "metadata": {
        "id": "KY87X7JarINj"
      },
      "outputs": [],
      "source": [
        "model.save(\"/content/drive/MyDrive/capillaroscopy/capillaries_classifier4.keras\")"
      ]
    },
    {
      "cell_type": "code",
      "execution_count": null,
      "metadata": {
        "id": "itx70Sp8rIwI"
      },
      "outputs": [],
      "source": [
        "test_df = pd.read_csv(\"/content/drive/MyDrive/capillaroscopy/csv/labels.csv\")\n",
        "test_class_0_df = test_df[test_df[\"class\"] == 1].copy()\n",
        "\n",
        "# Добавляем полный путь к изображениям\n",
        "test_class_0_df[\"filepath\"] = test_class_0_df[\"filename\"].apply(lambda x: os.path.join(\"/content/drive/MyDrive/capillaroscopy/data/train/\", x))\n",
        "\n",
        "print(f\"Найдено {len(test_class_0_df)} изображений класса 0\")"
      ]
    },
    {
      "cell_type": "code",
      "execution_count": null,
      "metadata": {
        "id": "kMZPc0WlrTVk"
      },
      "outputs": [],
      "source": [
        "test_datagen = ImageDataGenerator(rescale=1./255)\n",
        "\n",
        "# Генератор только для класса 0\n",
        "test_class_0_generator = test_datagen.flow_from_dataframe(\n",
        "    test_class_0_df, x_col=\"filepath\", y_col=None, target_size=(64, 64),\n",
        "    batch_size=32, class_mode=None, shuffle=False\n",
        ")"
      ]
    },
    {
      "cell_type": "code",
      "execution_count": null,
      "metadata": {
        "id": "-_lR3XpHrZS_"
      },
      "outputs": [],
      "source": [
        "predictions = model.predict(test_class_0_generator)\n",
        "\n",
        "# Берем класс с максимальной вероятностью\n",
        "predicted_classes = np.argmax(predictions, axis=1)\n",
        "\n",
        "# Выводим результаты\n",
        "for filename, pred in zip(test_class_0_df[\"filename\"], predicted_classes):\n",
        "    print(f\"{filename}: предсказанный класс {pred}\")"
      ]
    },
    {
      "cell_type": "code",
      "execution_count": null,
      "metadata": {
        "id": "sHcrUiz4qFTQ"
      },
      "outputs": [],
      "source": [
        "from google.colab import drive\n",
        "drive.mount('/content/drive')"
      ]
    },
    {
      "cell_type": "code",
      "execution_count": null,
      "metadata": {
        "id": "gBaHead4p_Ol"
      },
      "outputs": [],
      "source": [
        "import cv2\n",
        "import os\n",
        "import numpy as np\n",
        "import matplotlib.pyplot as plt"
      ]
    },
    {
      "cell_type": "markdown",
      "metadata": {
        "id": "YuwGFPC1olV6"
      },
      "source": [
        "Делим входное изображение на части 64Х64"
      ]
    },
    {
      "cell_type": "code",
      "execution_count": null,
      "metadata": {
        "id": "8ReWYauS2Pjb"
      },
      "outputs": [],
      "source": [
        "image_path = \"/content/drive/MyDrive/inp/image_capillar (15).png\"  # Укажи свой путь\n",
        "image = cv2.imread(image_path)\n",
        "\n",
        "# Проверяем загрузку\n",
        "if image is None:\n",
        "    raise ValueError(\"Ошибка загрузки изображения!\")\n",
        "\n",
        "# Размеры изображения\n",
        "h, w, _ = image.shape\n",
        "grid_size = 15  # 15x15 = 225 частей\n",
        "\n",
        "# Вычисляем размеры каждого блока\n",
        "tile_h = h // grid_size\n",
        "tile_w = w // grid_size\n",
        "\n",
        "# Создаем папку для сохранения\n",
        "output_folder = \"output_tiles\"\n",
        "os.makedirs(output_folder, exist_ok=True)\n",
        "\n",
        "# Разбиваем изображение и сохраняем фрагменты\n",
        "tile_counter = 0\n",
        "tiles = []  # Список для первых 5 фрагментов\n",
        "\n",
        "for i in range(grid_size):\n",
        "    for j in range(grid_size):\n",
        "        # Вычисляем координаты текущего фрагмента\n",
        "        x_start = j * tile_w\n",
        "        y_start = i * tile_h\n",
        "        x_end = x_start + tile_w\n",
        "        y_end = y_start + tile_h\n",
        "\n",
        "        # Вырезаем фрагмент\n",
        "        tile = image[y_start:y_end, x_start:x_end]\n",
        "\n",
        "        # Сохраняем фрагмент\n",
        "        tile_filename = os.path.join(output_folder, f\"tile_{tile_counter:03d}.png\")\n",
        "        cv2.imwrite(tile_filename, tile)\n",
        "\n",
        "        # Добавляем первые 5 фрагментов в список\n",
        "        if tile_counter < 15:\n",
        "            tiles.append(cv2.cvtColor(tile, cv2.COLOR_BGR2RGB))  # Конвертируем BGR → RGB для отображения\n",
        "\n",
        "        tile_counter += 1\n",
        "\n",
        "fig, axes = plt.subplots(1, 15, figsize=(15, 15))\n",
        "for idx, ax in enumerate(axes):\n",
        "    ax.imshow(tiles[idx])\n",
        "    ax.axis(\"off\")\n",
        "    ax.set_title(f\"Фрагмент {idx+1}\")\n",
        "\n",
        "plt.show()"
      ]
    },
    {
      "cell_type": "code",
      "execution_count": null,
      "metadata": {
        "id": "8aBCLWBwp0FT"
      },
      "outputs": [],
      "source": [
        "from tensorflow.keras.models import load_model\n",
        "\n",
        "# Загружаем обученную модель\n",
        "model = load_model(\"/content/drive/MyDrive/capillaroscopy/capillaries_classifier2_func.keras\")\n",
        "model.summary()"
      ]
    },
    {
      "cell_type": "code",
      "execution_count": null,
      "metadata": {
        "id": "tbk_DfoJrCup"
      },
      "outputs": [],
      "source": [
        "# Папка с разрезанными фрагментами\n",
        "tile_folder = \"output_tiles\"\n",
        "tile_size = (64, 64)  # Размер изображений, который использовала модель\n",
        "\n",
        "# Загружаем все изображения из папки\n",
        "image_files = sorted(os.listdir(tile_folder))  # Сортируем по имени\n",
        "tiles = []\n",
        "\n",
        "for filename in image_files:\n",
        "    img_path = os.path.join(tile_folder, filename)\n",
        "    img = cv2.imread(img_path)\n",
        "\n",
        "    if img is None:\n",
        "        continue  # Пропускаем, если файл не загрузился\n",
        "\n",
        "    # Изменяем размер под входные данные модели\n",
        "    img = cv2.resize(img, tile_size)\n",
        "\n",
        "    # Нормализация значений пикселей\n",
        "    img = img / 255.0\n",
        "\n",
        "    # Добавляем в список\n",
        "    tiles.append(img)\n",
        "\n",
        "# Преобразуем в numpy-массив для подачи в модель\n",
        "tiles = np.array(tiles)"
      ]
    },
    {
      "cell_type": "code",
      "execution_count": null,
      "metadata": {
        "id": "lI1sQJeQrXgW"
      },
      "outputs": [],
      "source": [
        "# Делаем предсказания\n",
        "predictions = model.predict(tiles)\n",
        "\n",
        "# Получаем предсказанный класс для каждого фрагмента\n",
        "predicted_classes = np.argmax(predictions, axis=1)\n",
        "\n",
        "# Выводим первые 10 предсказаний\n",
        "for i in range(10):\n",
        "    print(f\"📌 Файл: {image_files[i]} → Класс: {predicted_classes[i]}\")"
      ]
    },
    {
      "cell_type": "code",
      "execution_count": null,
      "metadata": {
        "id": "FCybaKRerec6"
      },
      "outputs": [],
      "source": [
        "import pandas as pd\n",
        "\n",
        "df = pd.DataFrame({\n",
        "    \"Filename\": image_files,\n",
        "    \"Predicted Class\": predicted_classes\n",
        "})\n",
        "\n",
        "df.to_csv(\"/content/drive/MyDrive/capillaroscopy/tile_predictions.csv\", index=False)\n",
        "print(\"📁 Предсказания сохранены в tile_predictions.csv\")"
      ]
    },
    {
      "cell_type": "code",
      "execution_count": null,
      "metadata": {
        "id": "PNf4a9dRshX0"
      },
      "outputs": [],
      "source": [
        "original_image = cv2.imread(image_path)\n",
        "\n",
        "if original_image is None:\n",
        "    raise ValueError(\"Ошибка загрузки изображения!\")\n",
        "\n",
        "h, w, _ = original_image.shape  # Размер изображения\n",
        "\n",
        "# 🔹 Папка с разрезанными частями\n",
        "tile_folder = \"output_tiles\"\n",
        "tile_size = (64, 64)  # Размер, на который натренирована модель\n",
        "grid_size = 15 # Разбиение 15x15 = 225 частей\n",
        "\n",
        "# Загружаем все изображения\n",
        "image_files = sorted(os.listdir(tile_folder))\n",
        "tiles = []\n",
        "\n",
        "for filename in image_files:\n",
        "    img_path = os.path.join(tile_folder, filename)\n",
        "    img = cv2.imread(img_path)\n",
        "\n",
        "    if img is None:\n",
        "        continue\n",
        "\n",
        "    # Изменяем размер под вход модели\n",
        "    img = cv2.resize(img, tile_size)\n",
        "    img = img / 255.0  # Нормализация\n",
        "    tiles.append(img)\n",
        "\n",
        "# Преобразуем в numpy-массив\n",
        "tiles = np.array(tiles)\n",
        "\n",
        "# 🔹 Прогоняем через модель\n",
        "predictions = model.predict(tiles)\n",
        "predicted_classes = np.argmax(predictions, axis=1)  # Определяем классы\n",
        "\n",
        "# 🔹 Восстанавливаем разбиение по изображению\n",
        "tile_h = h // grid_size\n",
        "tile_w = w // grid_size\n",
        "\n",
        "# 🔥 Создаем маску для выделения областей класса 0\n",
        "mask = np.zeros_like(original_image, dtype=np.uint8)\n",
        "\n",
        "tile_counter = 0\n",
        "for i in range(grid_size):\n",
        "    for j in range(grid_size):\n",
        "        x_start, y_start = j * tile_w, i * tile_h\n",
        "        x_end, y_end = x_start + tile_w, y_start + tile_h\n",
        "\n",
        "        if predicted_classes[tile_counter] == 0:  # Если класс 0, рисуем красную маску\n",
        "            cv2.rectangle(mask, (x_start, y_start), (x_end, y_end), (0, 0, 255), -1)  # Красный\n",
        "        elif predicted_classes[tile_counter] == 2:\n",
        "             cv2.rectangle(mask, (x_start, y_start), (x_end, y_end), (0, 255, 255), -1)\n",
        "\n",
        "        tile_counter += 1\n",
        "\n",
        "# 🔹 Добавляем маску к изображению\n",
        "alpha = 0.4  # Прозрачность\n",
        "highlighted_image = cv2.addWeighted(original_image, 1, mask, alpha, 0)\n",
        "\n",
        "# 📌 Вывод результата\n",
        "plt.figure(figsize=(10, 10))\n",
        "plt.imshow(cv2.cvtColor(highlighted_image, cv2.COLOR_BGR2RGB))\n",
        "plt.axis(\"off\")\n",
        "plt.title(\"Выделенные области класса 0\")\n",
        "plt.show()"
      ]
    },
    {
      "cell_type": "code",
      "execution_count": null,
      "metadata": {
        "id": "9pspCWAL9ZlW"
      },
      "outputs": [],
      "source": [
        "import pandas as pd\n",
        "\n",
        "# Читаем исходный файл CSV\n",
        "df = pd.read_csv(\"/content/drive/MyDrive/capillaroscopy/csv/labels.csv\")\n",
        "\n",
        "# Заменяем все значения 2 в столбце \"class\" на 0\n",
        "df.loc[df[\"class\"] == 2, \"class\"] = 1\n",
        "\n",
        "# Сохраняем изменения в исходный CSV (можно указать новый файл)\n",
        "df.to_csv(\"/content/drive/MyDrive/capillaroscopy/csv/labels_three.csv\", index=False)"
      ]
    }
  ],
  "metadata": {
    "colab": {
      "provenance": [],
      "mount_file_id": "1tqJBkTOQSyZW4oyLArpd6guPpT4ddfUE",
      "authorship_tag": "ABX9TyMAQ46M0jRBVjjv7s6w1K+t",
      "include_colab_link": true
    },
    "kernelspec": {
      "display_name": "Python 3",
      "name": "python3"
    },
    "language_info": {
      "name": "python"
    }
  },
  "nbformat": 4,
  "nbformat_minor": 0
}